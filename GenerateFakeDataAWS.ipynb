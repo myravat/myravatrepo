{
  "nbformat": 4,
  "nbformat_minor": 0,
  "metadata": {
    "colab": {
      "provenance": [],
      "authorship_tag": "ABX9TyN4ki/6kKl40A2mW2zpstE9",
      "include_colab_link": true
    },
    "kernelspec": {
      "name": "python3",
      "display_name": "Python 3"
    },
    "language_info": {
      "name": "python"
    }
  },
  "cells": [
    {
      "cell_type": "markdown",
      "metadata": {
        "id": "view-in-github",
        "colab_type": "text"
      },
      "source": [
        "<a href=\"https://colab.research.google.com/github/myravat/myravatrepo/blob/master/GenerateFakeDataAWS.ipynb\" target=\"_parent\"><img src=\"https://colab.research.google.com/assets/colab-badge.svg\" alt=\"Open In Colab\"/></a>"
      ]
    },
    {
      "cell_type": "code",
      "execution_count": 1,
      "metadata": {
        "colab": {
          "base_uri": "https://localhost:8080/"
        },
        "id": "e3oUT1-IYRPW",
        "outputId": "8545849a-7047-437e-89a7-3c668f2b268d"
      },
      "outputs": [
        {
          "output_type": "stream",
          "name": "stdout",
          "text": [
            "Collecting faker\n",
            "  Downloading Faker-24.4.0-py3-none-any.whl (1.8 MB)\n",
            "\u001b[2K     \u001b[90m━━━━━━━━━━━━━━━━━━━━━━━━━━━━━━━━━━━━━━━━\u001b[0m \u001b[32m1.8/1.8 MB\u001b[0m \u001b[31m6.4 MB/s\u001b[0m eta \u001b[36m0:00:00\u001b[0m\n",
            "\u001b[?25hRequirement already satisfied: python-dateutil>=2.4 in /usr/local/lib/python3.10/dist-packages (from faker) (2.8.2)\n",
            "Requirement already satisfied: six>=1.5 in /usr/local/lib/python3.10/dist-packages (from python-dateutil>=2.4->faker) (1.16.0)\n",
            "Installing collected packages: faker\n",
            "Successfully installed faker-24.4.0\n",
            "Collecting boto3\n",
            "  Downloading boto3-1.34.71-py3-none-any.whl (139 kB)\n",
            "\u001b[2K     \u001b[90m━━━━━━━━━━━━━━━━━━━━━━━━━━━━━━━━━━━━━━━━\u001b[0m \u001b[32m139.3/139.3 kB\u001b[0m \u001b[31m664.6 kB/s\u001b[0m eta \u001b[36m0:00:00\u001b[0m\n",
            "\u001b[?25hCollecting botocore<1.35.0,>=1.34.71 (from boto3)\n",
            "  Downloading botocore-1.34.71-py3-none-any.whl (12.0 MB)\n",
            "\u001b[2K     \u001b[90m━━━━━━━━━━━━━━━━━━━━━━━━━━━━━━━━━━━━━━━━\u001b[0m \u001b[32m12.0/12.0 MB\u001b[0m \u001b[31m9.6 MB/s\u001b[0m eta \u001b[36m0:00:00\u001b[0m\n",
            "\u001b[?25hCollecting jmespath<2.0.0,>=0.7.1 (from boto3)\n",
            "  Downloading jmespath-1.0.1-py3-none-any.whl (20 kB)\n",
            "Collecting s3transfer<0.11.0,>=0.10.0 (from boto3)\n",
            "  Downloading s3transfer-0.10.1-py3-none-any.whl (82 kB)\n",
            "\u001b[2K     \u001b[90m━━━━━━━━━━━━━━━━━━━━━━━━━━━━━━━━━━━━━━━━\u001b[0m \u001b[32m82.2/82.2 kB\u001b[0m \u001b[31m7.2 MB/s\u001b[0m eta \u001b[36m0:00:00\u001b[0m\n",
            "\u001b[?25hRequirement already satisfied: python-dateutil<3.0.0,>=2.1 in /usr/local/lib/python3.10/dist-packages (from botocore<1.35.0,>=1.34.71->boto3) (2.8.2)\n",
            "Requirement already satisfied: urllib3!=2.2.0,<3,>=1.25.4 in /usr/local/lib/python3.10/dist-packages (from botocore<1.35.0,>=1.34.71->boto3) (2.0.7)\n",
            "Requirement already satisfied: six>=1.5 in /usr/local/lib/python3.10/dist-packages (from python-dateutil<3.0.0,>=2.1->botocore<1.35.0,>=1.34.71->boto3) (1.16.0)\n",
            "Installing collected packages: jmespath, botocore, s3transfer, boto3\n",
            "Successfully installed boto3-1.34.71 botocore-1.34.71 jmespath-1.0.1 s3transfer-0.10.1\n"
          ]
        }
      ],
      "source": [
        "!pip install faker\n",
        "!pip install boto3"
      ]
    },
    {
      "cell_type": "code",
      "source": [
        "from faker import Faker\n",
        "from datetime import datetime\n",
        "import random\n",
        "import boto3\n",
        "import json"
      ],
      "metadata": {
        "id": "2di5FEx0Ybjf"
      },
      "execution_count": 11,
      "outputs": []
    },
    {
      "cell_type": "code",
      "source": [
        "# Import Libraries\n",
        "def generate_reference():\n",
        "  data = {}\n",
        "  faker = Faker()\n",
        "  data['name'] = faker.name()\n",
        "  data['address'] = faker.address()\n",
        "  data['event'] = random.choice(['CHeckout' , 'checkin' , 'order' , 'view xyz' , 'view abc'])\n",
        "  data['event_creation_time'] = datetime.now().strftime(\"%Y%m%d%H%M%S\")\n",
        "  return data\n",
        "\n",
        "\n"
      ],
      "metadata": {
        "id": "k3TAKebMYqh-"
      },
      "execution_count": 13,
      "outputs": []
    },
    {
      "cell_type": "code",
      "source": [
        "AWS_ACCESS_KEY=''\n",
        "AWS_SECRET_ACCESS_KEY=''\n",
        "client = boto3.client('firehose' , aws_access_key_id=AWS_ACCESS_KEY , aws_secret_access_key = AWS_SECRET_ACCESS_KEY,region_name='ap-south-1')\n",
        "for i in range(1,10):\n",
        "  data = generate_reference()\n",
        "  response = client.put_record(\n",
        "            DeliveryStreamName='DemoFirehouse',\n",
        "            Record={\n",
        "                'Data': json.dumps(data)\n",
        "            }\n",
        "        )\n",
        "  print(response)\n",
        "\n"
      ],
      "metadata": {
        "colab": {
          "base_uri": "https://localhost:8080/"
        },
        "id": "0397UetCbhCj",
        "outputId": "decbc651-2aa5-4ccf-eead-a6c497f08bb2"
      },
      "execution_count": 19,
      "outputs": [
        {
          "output_type": "stream",
          "name": "stdout",
          "text": [
            "{'RecordId': 'Xfo8wp16hDCVEaBdm4D+ULlHKVzXVgVc1n9Ni8lzxRhUKGjNSfevlLhG9Azv0Yd3y/Go6sgJ51mAQmI4wTw7WfTGVqOZapIRfKfbh8RA84qJbFE2zTdYcMYAE32nTA3FPHpQzlf6cLJUcwnBwDYG3h+nn0eeKwN7Gvm4SLryPJLz+5m9bY2qTn5t2YLWH4cE+6yjB8FB/V4eQMH2szjDRHCNdkYiFQwh', 'Encrypted': False, 'ResponseMetadata': {'RequestId': 'f7942d83-a94a-9a55-a9e9-d1b59391fc81', 'HTTPStatusCode': 200, 'HTTPHeaders': {'x-amzn-requestid': 'f7942d83-a94a-9a55-a9e9-d1b59391fc81', 'x-amz-id-2': '0xvIv9Qjg9Nl1mHDL5c8qkQaXefBFX97mgacGuas3Yj6vDYa2cLQXWP1ksWkZf3PIuNyeDL29LGqBZv2XASuYJiGlQXZp5G9', 'content-type': 'application/x-amz-json-1.1', 'content-length': '257', 'date': 'Wed, 27 Mar 2024 10:50:29 GMT'}, 'RetryAttempts': 0}}\n",
            "{'RecordId': 'TNg2AI1PqYfLXC5mDSr1wtmbtkG2RazERtI3/dhQqPAdZKJnX9LiK+MNNvSPHwAXp/nr/mhjIlCRkCambB+UlEWRzVOVi4CsoL2l5cG8dsisUvORIkJcS96fhyG9D4HVVKGwcvOyACm2aJ18kCgLkOtVZIYiRHbDs91IyY+5UD6YCvnzwPdVlwomPD/LCE0UapihirfkXOGkYMwa5REpu1wBNlLUKQ+Z', 'Encrypted': False, 'ResponseMetadata': {'RequestId': 'f5a98c88-a8e2-9b63-abd4-70be9239fdb7', 'HTTPStatusCode': 200, 'HTTPHeaders': {'x-amzn-requestid': 'f5a98c88-a8e2-9b63-abd4-70be9239fdb7', 'x-amz-id-2': '8Qzf2AAGXT2LJs4oZ1lBOWRBax0MCCI4oZ5xuixeM7uve8alUQQlxB+eNW/JqUzSTeIqlB6yNpjgaDNLJ4GiuYthf2wkS578', 'content-type': 'application/x-amz-json-1.1', 'content-length': '257', 'date': 'Wed, 27 Mar 2024 10:50:29 GMT'}, 'RetryAttempts': 0}}\n",
            "{'RecordId': 'z2gwVFH8A6/8ykzC64eJ9tAc+SYaFaxvxWLahfu+JcoKS+px4+YKHp2RiXnQZpTFQA9bqr4+tor/LFCCSEb7dWp1GUqW6GCiHn9deRlgRQBskX8o7ql0Ac4qFVZV6vT4TtkgRHth5EMIFYSmrs+G82hNVEM+OjaTSfSGvZRMcITQSIWD3sdvOVrkgnnCsY0NclnH3glfCpEWxcOcF+XYODW7RIIQdOdj', 'Encrypted': False, 'ResponseMetadata': {'RequestId': 'e03cc1c8-e808-32c9-be41-3dfed2d3541d', 'HTTPStatusCode': 200, 'HTTPHeaders': {'x-amzn-requestid': 'e03cc1c8-e808-32c9-be41-3dfed2d3541d', 'x-amz-id-2': 'pZCcNc2XzM1S8mU/O7g9iDLN+EOXpmwxAr5d6zrzJ4T2k8KUR0B3v3qEL89o2DoTLSb3iq1d5oUBIQaifZjgIhH4ngaLSSCG', 'content-type': 'application/x-amz-json-1.1', 'content-length': '257', 'date': 'Wed, 27 Mar 2024 10:50:30 GMT'}, 'RetryAttempts': 0}}\n",
            "{'RecordId': 'gUA243il7yofWjJ2VaDhUqmHE2OY3g211gnmF4SI3yQjeWOC9IAsJ2uc14dJKfydSfx129p0+vRhfuEE4qnnODATZUdq6XrIYYgtk3XvJEocKWgOAzMIb5KSz5QnVLSMw7qRue2sP6IWAxEI/RoxKRqmbWHBg0gKfKx3CpoRmaPKsO+A0vXcPk3xW0SJi8HANobyrD9MR4IMY4GHpoY8zkVg4Ta360aT', 'Encrypted': False, 'ResponseMetadata': {'RequestId': 'd6d543e8-f9b0-d3ab-88a8-bfdfc36bb57f', 'HTTPStatusCode': 200, 'HTTPHeaders': {'x-amzn-requestid': 'd6d543e8-f9b0-d3ab-88a8-bfdfc36bb57f', 'x-amz-id-2': 'WE33gOD6EoDHOk2v2paXTY3gGYgXgDCdqcv12hFeMCSrZDtS6yvO1SIJIQbWKfwa2lSxKKtOaLov3qHPBtggX+REEEK/gBMT', 'content-type': 'application/x-amz-json-1.1', 'content-length': '257', 'date': 'Wed, 27 Mar 2024 10:50:30 GMT'}, 'RetryAttempts': 0}}\n",
            "{'RecordId': '95pfWu1YvShdCwk/ckRgL7cfDgDfLh2C68u9wl77vFw4+AinMdRB//O4ssNvX0WMbrjY3gP7Z0MxT5XOQBOcd5BXWH2hFg8VaMqDiHvGXnlKecp2UqEE07L9xYkMbNgpVFC6ck0/G5lwMAjhksg+Q2MJ6uznfJWg6cq0pC4v9YBF3XZpKAiyFwUb3CFOn3GJxxgWjcAuacFKJBemT7QFlKer9Lqi18FP', 'Encrypted': False, 'ResponseMetadata': {'RequestId': 'd6c26f23-2ccd-e70d-88bf-9314161681d9', 'HTTPStatusCode': 200, 'HTTPHeaders': {'x-amzn-requestid': 'd6c26f23-2ccd-e70d-88bf-9314161681d9', 'x-amz-id-2': 'aHeE0LxUr4u5KCZEUfqVhnwfxKX+JBhLzWvn5XeW5KpHa1yWFTC+nhvUDW/EKqAk7LldZ9hOJmXBEIKTL/c1d+KMUJNf+ZTN', 'content-type': 'application/x-amz-json-1.1', 'content-length': '257', 'date': 'Wed, 27 Mar 2024 10:50:30 GMT'}, 'RetryAttempts': 0}}\n",
            "{'RecordId': 'puzyJXoBgIYuOo6cm1r6NGlrSSRpMrya70ix7f9qr1XmwZq3xPJXlILgZ8K+4P1wiRti3IoOyQMrcOMkKdvIRuzaqX4QxthMhH1onoHEN8xNbgNHUejBm2HY+KMU2UQRe/piaLPH/Juvwiz/03KbZVxO2bzwj3CgIa79/XUevyfCwYlAHOLUp41lHL9DZM3TAdtdULAtf2X/aG3lzskpxiF4ucO9XVvC', 'Encrypted': False, 'ResponseMetadata': {'RequestId': 'e494011e-62a3-04e9-bae9-fd295878623d', 'HTTPStatusCode': 200, 'HTTPHeaders': {'x-amzn-requestid': 'e494011e-62a3-04e9-bae9-fd295878623d', 'x-amz-id-2': 'SIE1ceivTyipVdnnRgO7qK74OLsA1KbQOKTBoZU5NvnBQx0i0EB2IpeHImvlcHelgmfS56AGtMPVXQMOqictbhV51YHW2ZPL', 'content-type': 'application/x-amz-json-1.1', 'content-length': '257', 'date': 'Wed, 27 Mar 2024 10:50:30 GMT'}, 'RetryAttempts': 0}}\n",
            "{'RecordId': 'EFd9T8oMpz8Acf7R2yjjq64nnJS6UcA7OeDYA5Sgk4SZ7mm40K0v8FDduf38bW37qOXA73ee3Inw6eD7Aw/V6KUn3jqGZzinK1Bd/pziaG6bBi47JEUA6otHrmTCP5gAb2yrstvQeDak8zLHBvewwRlmX7850oMoDdEhtAjlg0mNSlN+IEpIGfRwdb0KYUnTuBjymLDquS3Jlac8IGAvcgN2TlAW9d0Z', 'Encrypted': False, 'ResponseMetadata': {'RequestId': 'c684e5f0-9b6f-e43c-98f9-19c8a1b482e8', 'HTTPStatusCode': 200, 'HTTPHeaders': {'x-amzn-requestid': 'c684e5f0-9b6f-e43c-98f9-19c8a1b482e8', 'x-amz-id-2': 'SufacQ0Anf50z8rILG/7jvkvSSWryNU8ANpgeDRnObvZSb+xS3Dxe8WRxUIpJ4gxuhgFSthze6uVzHN1MX8vKp2KZQBR8lbR', 'content-type': 'application/x-amz-json-1.1', 'content-length': '257', 'date': 'Wed, 27 Mar 2024 10:50:31 GMT'}, 'RetryAttempts': 0}}\n",
            "{'RecordId': 'FK099vHQQJgFQ/Gm1Vmut1yYFNLiCEDRi8hMLh7snWtU5rTN6pPiLRWSA8S9Dik5sLNS1Rnuu0cSzakcd5i6hDgHSo1iQ7jka1kO0m6Vy9XXtm4wL+JEsACWBoTaGuYwM1HWk2Di/1l0tJV0cFffCxOzWC2N3E1WcnBePa20yFvelkAYBQBma0LxdkjwlXsFl3aioQlT0Q688ze5vG1TVmfD95LSU/0h', 'Encrypted': False, 'ResponseMetadata': {'RequestId': 'f3f1fa72-1d10-119b-ad8c-064a27cb774f', 'HTTPStatusCode': 200, 'HTTPHeaders': {'x-amzn-requestid': 'f3f1fa72-1d10-119b-ad8c-064a27cb774f', 'x-amz-id-2': '7zZXxqUOAEDIEGua/nZUfgk16EN4bwzoFxPDJeKmtBwJFwesRUHFzTg2NvnyBZnrt1Nt58vDo3qFKESgmx8qP5aSc27yqs3M', 'content-type': 'application/x-amz-json-1.1', 'content-length': '257', 'date': 'Wed, 27 Mar 2024 10:50:31 GMT'}, 'RetryAttempts': 0}}\n",
            "{'RecordId': 'SawXd5O08fBzx99/kEI+X4nRn43HOMHg4OmdgdZMQPXzgzuDnMZ4KpcoU0NaUe7qp20wuAKXNr8tt86AglOeXW3ARYVcyTYe2evpaau/7R+mMwnWlnVphVOyUH4dCmEJ49YR5fsj+dK+TtvcR/TKPHAYY/cZxgSu4OmRJli2/9AzS0hDZ1V2aNJwLBMP3H9wziqx2A6W1cX3GOq+YyfQr37yXUlXifrA', 'Encrypted': False, 'ResponseMetadata': {'RequestId': 'e2240e8d-bbac-8d56-bc59-f2b58177eb82', 'HTTPStatusCode': 200, 'HTTPHeaders': {'x-amzn-requestid': 'e2240e8d-bbac-8d56-bc59-f2b58177eb82', 'x-amz-id-2': '5Mq8RHPHSD0mkVJ2XrtY8cWfR4KGC97pd0NBaEBUUMxOIktvVFLuNdFK/GUiU5YJrsD4+m2W+eQnchfQhvtFBy4yJfE3bVLC', 'content-type': 'application/x-amz-json-1.1', 'content-length': '257', 'date': 'Wed, 27 Mar 2024 10:50:31 GMT'}, 'RetryAttempts': 0}}\n"
          ]
        }
      ]
    },
    {
      "cell_type": "code",
      "source": [],
      "metadata": {
        "id": "ERIx-YlXbsF2"
      },
      "execution_count": null,
      "outputs": []
    }
  ]
}