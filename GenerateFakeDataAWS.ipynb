{
  "nbformat": 4,
  "nbformat_minor": 0,
  "metadata": {
    "colab": {
      "provenance": [],
      "authorship_tag": "ABX9TyNm2WuVjf0gNUMZzRgtfQno",
      "include_colab_link": true
    },
    "kernelspec": {
      "name": "python3",
      "display_name": "Python 3"
    },
    "language_info": {
      "name": "python"
    }
  },
  "cells": [
    {
      "cell_type": "markdown",
      "metadata": {
        "id": "view-in-github",
        "colab_type": "text"
      },
      "source": [
        "<a href=\"https://colab.research.google.com/github/myravat/myravatrepo/blob/master/GenerateFakeDataAWS.ipynb\" target=\"_parent\"><img src=\"https://colab.research.google.com/assets/colab-badge.svg\" alt=\"Open In Colab\"/></a>"
      ]
    },
    {
      "cell_type": "code",
      "execution_count": 1,
      "metadata": {
        "colab": {
          "base_uri": "https://localhost:8080/"
        },
        "id": "e3oUT1-IYRPW",
        "outputId": "8545849a-7047-437e-89a7-3c668f2b268d"
      },
      "outputs": [
        {
          "output_type": "stream",
          "name": "stdout",
          "text": [
            "Collecting faker\n",
            "  Downloading Faker-24.4.0-py3-none-any.whl (1.8 MB)\n",
            "\u001b[2K     \u001b[90m━━━━━━━━━━━━━━━━━━━━━━━━━━━━━━━━━━━━━━━━\u001b[0m \u001b[32m1.8/1.8 MB\u001b[0m \u001b[31m6.4 MB/s\u001b[0m eta \u001b[36m0:00:00\u001b[0m\n",
            "\u001b[?25hRequirement already satisfied: python-dateutil>=2.4 in /usr/local/lib/python3.10/dist-packages (from faker) (2.8.2)\n",
            "Requirement already satisfied: six>=1.5 in /usr/local/lib/python3.10/dist-packages (from python-dateutil>=2.4->faker) (1.16.0)\n",
            "Installing collected packages: faker\n",
            "Successfully installed faker-24.4.0\n",
            "Collecting boto3\n",
            "  Downloading boto3-1.34.71-py3-none-any.whl (139 kB)\n",
            "\u001b[2K     \u001b[90m━━━━━━━━━━━━━━━━━━━━━━━━━━━━━━━━━━━━━━━━\u001b[0m \u001b[32m139.3/139.3 kB\u001b[0m \u001b[31m664.6 kB/s\u001b[0m eta \u001b[36m0:00:00\u001b[0m\n",
            "\u001b[?25hCollecting botocore<1.35.0,>=1.34.71 (from boto3)\n",
            "  Downloading botocore-1.34.71-py3-none-any.whl (12.0 MB)\n",
            "\u001b[2K     \u001b[90m━━━━━━━━━━━━━━━━━━━━━━━━━━━━━━━━━━━━━━━━\u001b[0m \u001b[32m12.0/12.0 MB\u001b[0m \u001b[31m9.6 MB/s\u001b[0m eta \u001b[36m0:00:00\u001b[0m\n",
            "\u001b[?25hCollecting jmespath<2.0.0,>=0.7.1 (from boto3)\n",
            "  Downloading jmespath-1.0.1-py3-none-any.whl (20 kB)\n",
            "Collecting s3transfer<0.11.0,>=0.10.0 (from boto3)\n",
            "  Downloading s3transfer-0.10.1-py3-none-any.whl (82 kB)\n",
            "\u001b[2K     \u001b[90m━━━━━━━━━━━━━━━━━━━━━━━━━━━━━━━━━━━━━━━━\u001b[0m \u001b[32m82.2/82.2 kB\u001b[0m \u001b[31m7.2 MB/s\u001b[0m eta \u001b[36m0:00:00\u001b[0m\n",
            "\u001b[?25hRequirement already satisfied: python-dateutil<3.0.0,>=2.1 in /usr/local/lib/python3.10/dist-packages (from botocore<1.35.0,>=1.34.71->boto3) (2.8.2)\n",
            "Requirement already satisfied: urllib3!=2.2.0,<3,>=1.25.4 in /usr/local/lib/python3.10/dist-packages (from botocore<1.35.0,>=1.34.71->boto3) (2.0.7)\n",
            "Requirement already satisfied: six>=1.5 in /usr/local/lib/python3.10/dist-packages (from python-dateutil<3.0.0,>=2.1->botocore<1.35.0,>=1.34.71->boto3) (1.16.0)\n",
            "Installing collected packages: jmespath, botocore, s3transfer, boto3\n",
            "Successfully installed boto3-1.34.71 botocore-1.34.71 jmespath-1.0.1 s3transfer-0.10.1\n"
          ]
        }
      ],
      "source": [
        "!pip install faker\n",
        "!pip install boto3"
      ]
    },
    {
      "cell_type": "code",
      "source": [
        "from faker import Faker\n",
        "from datetime import datetime\n",
        "import random\n",
        "import boto3\n",
        "import json"
      ],
      "metadata": {
        "id": "2di5FEx0Ybjf"
      },
      "execution_count": 11,
      "outputs": []
    },
    {
      "cell_type": "code",
      "source": [
        "# Import Libraries\n",
        "def generate_reference():\n",
        "  data = {}\n",
        "  faker = Faker()\n",
        "  data['name'] = faker.name()\n",
        "  data['address'] = faker.address()\n",
        "  data['event'] = random.choice(['CHeckout' , 'checkin' , 'order' , 'view xyz' , 'view abc'])\n",
        "  data['event_creation_time'] = datetime.now().strftime(\"%Y%m%d%H%M%S\")\n",
        "  return data\n",
        "\n",
        "\n"
      ],
      "metadata": {
        "id": "k3TAKebMYqh-"
      },
      "execution_count": 13,
      "outputs": []
    },
    {
      "cell_type": "code",
      "source": [
        "for i in range(1,10):\n",
        "  data = generate_reference()\n",
        "  print(json.dumps(data))"
      ],
      "metadata": {
        "colab": {
          "base_uri": "https://localhost:8080/"
        },
        "id": "0397UetCbhCj",
        "outputId": "80a3b4ef-29da-4f17-e215-0b8c0340f452"
      },
      "execution_count": 14,
      "outputs": [
        {
          "output_type": "stream",
          "name": "stdout",
          "text": [
            "{\"name\": \"Michael Barnes\", \"address\": \"648 Robles Burgs\\nLake Jamesfurt, PW 93959\", \"event\": \"order\", \"event_creation_time\": \"20240327102617\"}\n",
            "{\"name\": \"James Park\", \"address\": \"4393 Smith Forge\\nWest Michelleberg, MA 62283\", \"event\": \"view xyz\", \"event_creation_time\": \"20240327102617\"}\n",
            "{\"name\": \"James Hawkins\", \"address\": \"1276 Bell Overpass Suite 055\\nAngelaborough, IN 75284\", \"event\": \"order\", \"event_creation_time\": \"20240327102617\"}\n",
            "{\"name\": \"John Cannon\", \"address\": \"890 Lewis Island\\nRodriguezburgh, HI 60052\", \"event\": \"CHeckout\", \"event_creation_time\": \"20240327102617\"}\n",
            "{\"name\": \"Jennifer Smith\", \"address\": \"23310 Steven Landing\\nNorth Brandy, MI 99004\", \"event\": \"checkin\", \"event_creation_time\": \"20240327102617\"}\n",
            "{\"name\": \"Seth Foster\", \"address\": \"34728 Michelle Union\\nMatthewshire, RI 20720\", \"event\": \"order\", \"event_creation_time\": \"20240327102617\"}\n",
            "{\"name\": \"Eugene Herrera\", \"address\": \"706 Smith Coves Suite 767\\nLisamouth, KS 56791\", \"event\": \"checkin\", \"event_creation_time\": \"20240327102617\"}\n",
            "{\"name\": \"Sandra Riley\", \"address\": \"4878 David Mountain\\nLake Christopherberg, KS 58336\", \"event\": \"view abc\", \"event_creation_time\": \"20240327102617\"}\n",
            "{\"name\": \"Emily Williams\", \"address\": \"66031 Roy Junctions Suite 950\\nDanielville, WA 03607\", \"event\": \"checkin\", \"event_creation_time\": \"20240327102617\"}\n"
          ]
        }
      ]
    },
    {
      "cell_type": "code",
      "source": [],
      "metadata": {
        "id": "ERIx-YlXbsF2"
      },
      "execution_count": null,
      "outputs": []
    }
  ]
}