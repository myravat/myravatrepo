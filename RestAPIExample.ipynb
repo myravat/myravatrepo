{
  "nbformat": 4,
  "nbformat_minor": 0,
  "metadata": {
    "colab": {
      "provenance": [],
      "authorship_tag": "ABX9TyO2MgRD+3Y4RRjSOBWANoFE",
      "include_colab_link": true
    },
    "kernelspec": {
      "name": "python3",
      "display_name": "Python 3"
    },
    "language_info": {
      "name": "python"
    }
  },
  "cells": [
    {
      "cell_type": "markdown",
      "metadata": {
        "id": "view-in-github",
        "colab_type": "text"
      },
      "source": [
        "<a href=\"https://colab.research.google.com/github/myravat/myravatrepo/blob/master/RestAPIExample.ipynb\" target=\"_parent\"><img src=\"https://colab.research.google.com/assets/colab-badge.svg\" alt=\"Open In Colab\"/></a>"
      ]
    },
    {
      "cell_type": "code",
      "execution_count": 30,
      "metadata": {
        "id": "MIWLX7jwASVV"
      },
      "outputs": [],
      "source": [
        "import requests\n",
        "import json\n",
        "import pandas as pd\n",
        "\n",
        "\n"
      ]
    },
    {
      "cell_type": "code",
      "source": [
        "BASE_URL='https://gorest.co.in/public'\n",
        "VERSION='v2'\n",
        "url_object='users'\n",
        "\n",
        "def get_url():\n",
        "  return BASE_URL + '/' + VERSION + '/' + url_object"
      ],
      "metadata": {
        "id": "lxrOkGVk1XzB"
      },
      "execution_count": 31,
      "outputs": []
    },
    {
      "cell_type": "code",
      "source": [
        "API_URL=get_url()\n",
        "r = requests.get(get_url())"
      ],
      "metadata": {
        "id": "vJ5ykaL6g1K1"
      },
      "execution_count": 32,
      "outputs": []
    },
    {
      "cell_type": "code",
      "source": [
        "with  file as  open('/tmp/file.json','w'):\n",
        "  json.d"
      ],
      "metadata": {
        "id": "GDCcPC60o9aZ"
      },
      "execution_count": 32,
      "outputs": []
    }
  ]
}